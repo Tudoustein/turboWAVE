{
 "cells": [
  {
   "cell_type": "code",
   "execution_count": 1,
   "metadata": {},
   "outputs": [
    {
     "name": "stdout",
     "output_type": "stream",
     "text": [
      "1.7419597127682665e+27\n"
     ]
    }
   ],
   "source": [
    "import numpy as np\n",
    "from scipy import constants as C\n",
    "import matplotlib as mpl\n",
    "import matplotlib.pyplot as plt\n",
    "import scipy.optimize\n",
    "import twutils.pre\n",
    "\n",
    "mpl.rcParams.update({'text.usetex' : True , 'font.size' : 10})\n",
    "\n",
    "# Using mks units, normalize only at the end\n",
    "nc = twutils.pre.ncrit(0.8e-6)\n",
    "su = twutils.pre.SimUnits(nc*1e-6)\n",
    "print(nc)"
   ]
  },
  {
   "cell_type": "code",
   "execution_count": 2,
   "metadata": {},
   "outputs": [],
   "source": [
    "# Basic functions\n",
    "def DF(w,res,gam):\n",
    "    return res**2 - 2*1j*w*gam - w**2\n",
    "def chiBBO(w):\n",
    "    lum = 1e6*2*np.pi*C.c/w\n",
    "    chi_o = 1.7359 + 0.01878/(lum**2-.01822) - .01354*lum**2\n",
    "    chi_e = 1.3753 + 0.01224/(lum**2-.01667) - .01516*lum**2\n",
    "    return ( chi_o , chi_o , chi_e )\n",
    "def chi_osc(w,f,wp,res,gam):\n",
    "    return f*wp**2/DF(w,res,gam)\n",
    "def contraction(j,k):\n",
    "    l = j\n",
    "    if j!=k and j in (1,2) and k in (1,2):\n",
    "        l = 3\n",
    "    if j!=k and j in (0,2) and k in (0,2):\n",
    "        l = 4\n",
    "    if j!=k and j in (0,1) and k in (0,1):\n",
    "        l = 5\n",
    "    return l\n",
    "def uncontract(l):\n",
    "    if l==0:\n",
    "        return 0,0\n",
    "    if l==1:\n",
    "        return 1,1\n",
    "    if l==2:\n",
    "        return 2,2\n",
    "    if l==3:\n",
    "        return 1,2\n",
    "    if l==4:\n",
    "        return 0,2\n",
    "    return 0,1\n",
    "    "
   ]
  },
  {
   "cell_type": "code",
   "execution_count": 6,
   "metadata": {},
   "outputs": [
    {
     "name": "stdout",
     "output_type": "stream",
     "text": [
      "oscillator 1 [plasma]: n = 18.037603305450563 f = [5.07478687 5.07478687 4.83318042] res = [7.28130232 7.28130232 7.98296061]\n",
      "oscillator 2 [plasma]: n = 0.0018037603305450568 f = [0.68225082 0.68225082 1.65253959] res = [0.675357  0.675357  0.5760919]\n",
      "oscillator 1 [mks]: wp = 1e+16 f = [5.07478687 5.07478687 4.83318042] res = [1.71442957e+16 1.71442957e+16 1.87963953e+16]\n",
      "oscillator 2 [mks]: wp = 100000000000000.0 f = [0.68225082 0.68225082 1.65253959] res = [1.59017159e+15 1.59017159e+15 1.35644551e+15]\n"
     ]
    },
    {
     "data": {
      "image/png": "[encoded data removed]",
      "text/plain": [
       "<Figure size 432x288 with 1 Axes>"
      ]
     },
     "metadata": {
      "needs_background": "light"
     },
     "output_type": "display_data"
    }
   ],
   "source": [
    "# Setup linear dispersion parameters\n",
    "# We use a 2D array such that e.g. res[s,i] is the resonant frequency\n",
    "# for oscillator s, along axis i\n",
    "wp = np.array([1e16,1e14])\n",
    "def chi_2osc(w,f1,res1,f2,res2):\n",
    "    o1 = chi_osc(w,f1,wp[0],res1,0.0)\n",
    "    o2 = chi_osc(w,f2,wp[1],res2,0.0)\n",
    "    return np.real(o1+o2)\n",
    "\n",
    "f = np.ones((2,3))\n",
    "gam = np.zeros((2,3))\n",
    "res = np.ones((2,3))\n",
    "l = np.linspace(0.3e-6,1e-6,100)\n",
    "w = 2*np.pi*C.c/l\n",
    "chi_o = chiBBO(w)[0]\n",
    "chi_e = chiBBO(w)[2]\n",
    "owave = scipy.optimize.curve_fit(chi_2osc,w,chi_o,[1,1e16,1,1e12],bounds=([0.0,0.0,0.0,0.0],[10,1e17,10,1e17]))\n",
    "ewave = scipy.optimize.curve_fit(chi_2osc,w,chi_e,[1,1e16,1,1e12],bounds=([0.0,0.0,0.0,0.0],[10,1e17,10,1e17]))\n",
    "\n",
    "f[0,0:2] = owave[0][0]\n",
    "res[0,0:2] = owave[0][1]\n",
    "f[1,0:2] = owave[0][2]\n",
    "res[1,0:2] = owave[0][3]\n",
    "chi_o_fit = chi_2osc(w,f[0,0],res[0,0],f[1,0],res[1,0])\n",
    "\n",
    "f[0,2] = ewave[0][0]\n",
    "res[0,2] = ewave[0][1]\n",
    "f[1,2] = ewave[0][2]\n",
    "res[1,2] = ewave[0][3]\n",
    "chi_e_fit = chi_2osc(w,f[0,2],res[0,2],f[1,2],res[1,2])\n",
    "\n",
    "print('oscillator 1 [plasma]: n =',(su.t1*wp[0])**2,'f =',f[0,:],'res =',res[0,:]*su.t1)\n",
    "print('oscillator 2 [plasma]: n =',(su.t1*wp[1])**2,'f =',f[1,:],'res =',res[1,:]*su.t1)\n",
    "print('oscillator 1 [mks]: wp =',wp[0],'f =',f[0,:],'res =',res[0,:])\n",
    "print('oscillator 2 [mks]: wp =',wp[1],'f =',f[1,:],'res =',res[1,:])\n",
    "\n",
    "plt.figure(1)\n",
    "plt.plot(l*1e6,chi_o)\n",
    "plt.plot(l*1e6,chi_o_fit,'k--')\n",
    "plt.plot(l*1e6,chi_e)\n",
    "plt.plot(l*1e6,chi_e_fit,'k--')\n",
    "plt.show()"
   ]
  },
  {
   "cell_type": "code",
   "execution_count": 4,
   "metadata": {},
   "outputs": [
    {
     "name": "stdout",
     "output_type": "stream",
     "text": [
      "d = [[ 0.0e+00  0.0e+00  0.0e+00  0.0e+00  8.0e-14  2.2e-12]\n",
      " [ 2.2e-12 -2.2e-12  0.0e+00  8.0e-14  0.0e+00  0.0e+00]\n",
      " [ 4.0e-14  4.0e-14  4.0e-14  0.0e+00  0.0e+00  0.0e+00]]\n",
      "a[/m/s2] = [[-0.00e+00 -0.00e+00 -0.00e+00 -0.00e+00 -4.89e+40 -1.11e+42]\n",
      " [-1.11e+42  1.11e+42 -0.00e+00 -4.89e+40 -0.00e+00 -0.00e+00]\n",
      " [-2.59e+40 -2.59e+40 -3.77e+40 -0.00e+00 -0.00e+00 -0.00e+00]]\n",
      "a[plasma] = [[    -0.       -0.       -0.       -0.    -1121.99 -25586.6 ]\n",
      " [-25586.6   25586.6      -0.    -1121.99     -0.       -0.  ]\n",
      " [  -595.2    -595.2    -865.53     -0.       -0.       -0.  ]]\n"
     ]
    }
   ],
   "source": [
    "# We have to pick a nonlinear process and associated frequencies\n",
    "# We are choosing to put the nonlinearity in oscillator 0\n",
    "w1 = 2*np.pi*C.c/0.8e-6\n",
    "w2 = 2*np.pi*C.c/0.8e-6\n",
    "w3 = w1+w2\n",
    "# 1=xx,2=yy,3=zz,4=yz,5=zx,6=xy\n",
    "dBBO = np.array([[0,0,0,0,.08,2.2],[2.2,-2.2,0,.08,0,0],[.04,.04,.04,0,0,0]])*1e-12\n",
    "d = dBBO\n",
    "a = np.zeros((3,6))\n",
    "# Form anharmonic tensor - OK for w1=w2, what if w1!=w2?\n",
    "for i in range(3):\n",
    "    for l in range(6):\n",
    "            j,k = uncontract(l)\n",
    "            a[i,l] = -2*C.m_e*d[i,l]/C.e\n",
    "            a[i,l] *= np.real(DF(w3,res[0,i],0.0))\n",
    "            a[i,l] *= np.real(DF(w1,res[0,j],0.0))\n",
    "            a[i,l] *= np.real(DF(w2,res[0,k],0.0))\n",
    "            a[i,l] /= f[0,i] * wp[0]**2\n",
    "print('d =',d)\n",
    "print('a[/m/s2] =',np.array2string(a,precision=2))\n",
    "print('a[plasma] =',np.array2string(a*su.x1*su.t1**2,precision=2))"
   ]
  },
  {
   "cell_type": "code",
   "execution_count": 5,
   "metadata": {},
   "outputs": [
    {
     "name": "stdout",
     "output_type": "stream",
     "text": [
      "refractive index = 1.5444203018104292\n",
      "b[/m2/s2] = 1.6e+54\n",
      "b[plasma] = 4.7e+09\n",
      "d[/m4/s2] = -7.2e+75\n",
      "d[plasma] = -3.4e+17\n"
     ]
    }
   ],
   "source": [
    "# nonlinear index and stabilization\n",
    "ax = 2 # which axis to take the dispersion from\n",
    "n2_mks = 0.4e-15 * 1e-4\n",
    "w0 = 2*np.pi*C.c/0.8e-6\n",
    "n0 = (1+chiBBO(w0)[ax])**0.5\n",
    "print('refractive index =',n0)\n",
    "b = 1.333*n2_mks*(n0**2/377)*(C.m_e/C.e)**2*np.conj(DF(w0,res[0,ax],0.0))*DF(w0,res[0,ax],0.0)**3/wp[0]**2\n",
    "print('b[/m2/s2] = {:.2}'.format(np.real(b)))\n",
    "print('b[plasma] = {:.2}'.format(np.real(b*su.x1**2*su.t1**2)))\n",
    "b5 = -b**2 / res[0,ax]**2\n",
    "print('d[/m4/s2] = {:.2}'.format(np.real(b5)))\n",
    "print('d[plasma] = {:.2}'.format(np.real(b5*su.x1**4*su.t1**2)))"
   ]
  },
  {
   "cell_type": "code",
   "execution_count": null,
   "metadata": {},
   "outputs": [],
   "source": []
  }
 ],
 "metadata": {
  "kernelspec": {
   "display_name": "Python 3",
   "language": "python",
   "name": "python3"
  },
  "language_info": {
   "codemirror_mode": {
    "name": "ipython",
    "version": 3
   },
   "file_extension": ".py",
   "mimetype": "text/x-python",
   "name": "python",
   "nbconvert_exporter": "python",
   "pygments_lexer": "ipython3",
   "version": "3.8.5"
  }
 },
 "nbformat": 4,
 "nbformat_minor": 2
}
